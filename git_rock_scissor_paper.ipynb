{
 "cells": [
  {
   "cell_type": "markdown",
   "metadata": {},
   "source": [
    "# 1번 프로젝트\n",
    "  - 코딩의 효율성에 초점을 맞춰서 코딩해 봄\n",
    "      + 반복되는 실행 : 함수를 만들어 호출하여 코드 작성\n",
    "        + def image_desizing(choice, width, length): # 이미지 크기 조정 함수\n",
    "        + def load_data(img_path, num): # train, test data에 label 부여 함수\n",
    "      + load_data 함수 내에 비슷한 반복문 존재\n",
    "        + list를 작성하여 반복문 코드를 단순하게 작성\n",
    "          \n",
    "          \n",
    "        \n",
    "## 슬랙에 올라온 자료를 합쳐 3600개 데이터 확보\n",
    "  - train data와 test data를 random함수를 통해 인덱스를 확보\n",
    "    - test data 인덱스를 확보\n",
    "    - 확보한 인덱스로 test data를 구성\n",
    "    - 나머지 인덱스는 train data로 만듬\n",
    "      \n",
    "      \n",
    "  - test data를 300여개 확보하고자 하였지만 중복되는 숫자도 발생\n",
    "    - set 형으로 정의하여 중복되는 숫자는 처리\n",
    "    - test data 개수가 300개가 안됨\n",
    "      \n",
    "        \n",
    "        \n",
    "## 결과 분석\n",
    "  - 정확도가 너무 높음\n",
    "  - 슬랙에 올라온 자료는 모두 비슷한 형태로 사진을 찍어서 정확도가 높은 것으로 추정됨\n",
    " "
   ]
  },
  {
   "cell_type": "code",
   "execution_count": 1,
   "metadata": {},
   "outputs": [
    {
     "name": "stdout",
     "output_type": "stream",
     "text": [
      "PIL 라이브러리 import 완료\n"
     ]
    }
   ],
   "source": [
    "# !pip install pillow\n",
    "\n",
    "from PIL import Image\n",
    "import os, glob\n",
    "\n",
    "print(\"PIL 라이브러리 import 완료\")"
   ]
  },
  {
   "cell_type": "markdown",
   "metadata": {},
   "source": [
    "## 코딩의 효율성\n",
    "  - 이미지 크기 조정 작업을 세 번 반복\n",
    "    + 함수로 만들어 호출하면 코딩이 줄어듬\n",
    "  - 함수의 인자\n",
    "    + choice : scissor, rock, paper\n",
    "    + width : 이미지 폭\n",
    "    + length : 이미지 높이\n",
    "      + 이미지 크기 조절을 원하면 함수를 호출할 때 인자를 수정하면 가능\n"
   ]
  },
  {
   "cell_type": "code",
   "execution_count": 2,
   "metadata": {},
   "outputs": [
    {
     "name": "stdout",
     "output_type": "stream",
     "text": [
      "scissor 이미지 resize 완료!\n",
      "rock 이미지 resize 완료!\n",
      "paper 이미지 resize 완료!\n"
     ]
    }
   ],
   "source": [
    "def image_desizing(choice, width, length):\n",
    "\n",
    "    image_dir_path = os.getenv(\"HOME\") + \"/aiffel/rock_scissor_paper/\" + choice\n",
    "\n",
    "    images = glob.glob(image_dir_path + \"/*.jpg\")\n",
    "\n",
    "    #파일마다 모두 28x28 사이즈로 바꾸어 저장합니다.\n",
    "\n",
    "    target_size = (width, length)\n",
    "    for img in images:\n",
    "        old_img = Image.open(img)\n",
    "        new_img = old_img.resize(target_size, Image.ANTIALIAS)\n",
    "        new_img.save(img, \"JPEG\")\n",
    "\n",
    "    print(choice + \" 이미지 resize 완료!\")\n",
    "    \n",
    "image_desizing(\"scissor\", 28, 28)\n",
    "image_desizing(\"rock\", 28, 28)\n",
    "image_desizing(\"paper\", 28, 28)"
   ]
  },
  {
   "cell_type": "code",
   "execution_count": 3,
   "metadata": {},
   "outputs": [
    {
     "data": {
      "text/plain": [
       "<generator object walk at 0x7f6a7c7701d0>"
      ]
     },
     "execution_count": 3,
     "metadata": {},
     "output_type": "execute_result"
    }
   ],
   "source": [
    "os.walk(\"~/aiffel/rock_scissor_paper/rock\")"
   ]
  },
  {
   "cell_type": "code",
   "execution_count": null,
   "metadata": {},
   "outputs": [],
   "source": []
  },
  {
   "cell_type": "markdown",
   "metadata": {},
   "source": [
    "## 코딩의 효율성\n",
    "  - 함수를 통해 train data와 test data를 호출함으로 코드 단순화\n",
    "    + 함수 인자는 경로와 파일 수\n",
    "    + 우분투에서 디렉토리 내에 파일 수를 셀 수 있는 방법을 모름\n",
    "      + 검색을 통해 코딩했지만 오류 발생 -> 후에 파악하면 수정할 예정\n",
    "      + 방법을 알게되면 파일 수(3600개)를 몰라도 실행 가능\n",
    "  - label을 부여하기 위해 for 문을 유사하게 3번 반복\n",
    "    + 경로를 지정하는 것을 리스트로 작성하여 코드 단순화\n",
    "    + 분류항목이 늘어나면 리스트만 조정하면 가능(확장성)\n",
    "\n",
    "---\n",
    "    # 디렉토리 별 label 부여, 리스트로 작성하여 반복되는 구문을 단순화함\n",
    "    srps = [\"/scissor/*.jpg\", \"/rock/*.jpg\", \"/paper/*.jpg\"]\n",
    "    \n",
    "    idx = 0\n",
    "    label = 0\n",
    "    \n",
    "    for srp in srps:\n",
    "        for file in glob.iglob(img_path + srp):\n",
    "            img = np.array(Image.open(file),dtype=np.int32)\n",
    "            \n",
    "            imgs[idx,:,:,:] = img\n",
    "            labels[idx] = label\n",
    "            \n",
    "            idx += 1\n",
    "            \n",
    "        label += 1\n",
    "\n",
    "---\n"
   ]
  },
  {
   "cell_type": "code",
   "execution_count": 4,
   "metadata": {},
   "outputs": [
    {
     "name": "stdout",
     "output_type": "stream",
     "text": [
      "x_train shape: (3314, 28, 28, 3)\n",
      "y_train shape: (3314,)\n",
      "\n",
      "x_test shape: (286, 28, 28, 3)\n",
      "y_test shape: (286,)\n"
     ]
    }
   ],
   "source": [
    "import numpy as np\n",
    "import random\n",
    "\n",
    "def load_data(img_path, num):\n",
    "    # 가위 : 0, 바위 : 1, 보 : 2\n",
    "    img_size=28\n",
    "    color=3\n",
    "\n",
    "    # train data / test data를 구분하기 위해 난수 발생\n",
    "    # test data 300개 할당 --> 중복된 수가 발생되어 실제 300개가 안됨.\n",
    "\n",
    "    test_idxs = {random.randrange(3600) for n in range(300)}\n",
    "\n",
    "    #    test_idxs.sort()    # set형이라 정렬할 필요없음\n",
    "#    train_idxs = [n for n in range(num) if n not in test_idxs]  # 리스트 형일 때 사용했음.\n",
    "   \n",
    "    test_num = len(test_idxs)\n",
    "    \n",
    "    #이미지 데이터와 라벨(가위 : 0, 바위 : 1, 보 : 2) 데이터를 담을 행렬(matrix) 영역을 생성합니다.\n",
    "    imgs=np.zeros(num*img_size*img_size*color,dtype=np.int32).reshape(num,img_size,img_size,color)\n",
    "    labels=np.zeros(num,dtype=np.int32)\n",
    "    \n",
    "    train_imgs=np.zeros((num-test_num)*img_size*img_size*color,dtype=np.int32).reshape(num-test_num,img_size,img_size,color)\n",
    "    train_labels=np.zeros(num-test_num,dtype=np.int32)\n",
    "    \n",
    "    test_imgs=np.zeros(test_num*img_size*img_size*color,dtype=np.int32).reshape(test_num,img_size,img_size,color)\n",
    "    test_labels=np.zeros(test_num,dtype=np.int32)\n",
    "    \n",
    "    \n",
    "    # 디렉토리 별 label 부여, 리스트로 작성하여 반복되는 구문을 단순화함\n",
    "    srps = [\"/scissor/*.jpg\", \"/rock/*.jpg\", \"/paper/*.jpg\"]\n",
    "    \n",
    "    idx = 0\n",
    "    label = 0\n",
    "    \n",
    "    for srp in srps:\n",
    "        for file in glob.iglob(img_path + srp):\n",
    "            img = np.array(Image.open(file),dtype=np.int32)\n",
    "            \n",
    "            imgs[idx,:,:,:] = img\n",
    "            labels[idx] = label\n",
    "            \n",
    "            idx += 1\n",
    "            \n",
    "        label += 1\n",
    "\n",
    "# train data와 test data를 랜덤 발생시킨 인덱스를 통해서 할당해줌\n",
    "    train_i, test_i = 0, 0   # 튜블\n",
    "    for i in range(3600):\n",
    "        if i not in test_idxs:\n",
    "            train_imgs[train_i,:,:,:] = imgs[i,:,:,:]\n",
    "            train_labels[train_i] = labels[i]\n",
    "            train_i += 1\n",
    "        else:\n",
    "            test_imgs[test_i:,:,:] = imgs[i,::,:]\n",
    "            test_labels[test_i] = labels[i]\n",
    "            test_i += 1\n",
    "            \n",
    "    return train_imgs, train_labels, test_imgs, test_labels\n",
    "\n",
    "# 데이터 경로\n",
    "image_dir_path = os.getenv(\"HOME\") + \"/aiffel/rock_scissor_paper\"\n",
    "\n",
    "# train data와 test data label 부여하고 위한 함수 호출\n",
    "(x_train, y_train, x_test, y_test) = load_data(image_dir_path, 3600)\n",
    "\n",
    "x_train_norm, x_test_norm = x_train/255.0, x_test/255.0   # 입력은 0~1 사이의 값으로 정규화\n",
    "\n",
    "print(\"x_train shape: {}\".format(x_train.shape))\n",
    "print(\"y_train shape: {}\".format(y_train.shape))\n",
    "print()\n",
    "\n",
    "print(\"x_test shape: {}\".format(x_test.shape))\n",
    "print(\"y_test shape: {}\".format(y_test.shape))"
   ]
  },
  {
   "cell_type": "code",
   "execution_count": 5,
   "metadata": {
    "scrolled": true
   },
   "outputs": [
    {
     "name": "stdout",
     "output_type": "stream",
     "text": [
      "라벨:  1\n"
     ]
    },
    {
     "data": {
      "image/png": "[encoded data removed]",
      "text/plain": [
       "<Figure size 432x288 with 1 Axes>"
      ]
     },
     "metadata": {
      "needs_background": "light"
     },
     "output_type": "display_data"
    }
   ],
   "source": [
    "import matplotlib.pyplot as plt\n",
    "plt.imshow(x_test[150])\n",
    "print('라벨: ', y_test[150])"
   ]
  },
  {
   "cell_type": "code",
   "execution_count": 6,
   "metadata": {},
   "outputs": [
    {
     "name": "stdout",
     "output_type": "stream",
     "text": [
      "Counter({2: 1118, 1: 1106, 0: 1090}) Counter({0: 110, 1: 94, 2: 82})\n"
     ]
    }
   ],
   "source": [
    "# random으로 만들어진 인덱스에 의한 train, test data의 label 분포 확인\n",
    "\n",
    "import collections\n",
    "\n",
    "print(collections.Counter(y_train), collections.Counter(y_test))"
   ]
  },
  {
   "cell_type": "code",
   "execution_count": null,
   "metadata": {},
   "outputs": [],
   "source": []
  },
  {
   "cell_type": "code",
   "execution_count": 7,
   "metadata": {},
   "outputs": [
    {
     "name": "stdout",
     "output_type": "stream",
     "text": [
      "Model: \"sequential\"\n",
      "_________________________________________________________________\n",
      "Layer (type)                 Output Shape              Param #   \n",
      "=================================================================\n",
      "conv2d (Conv2D)              (None, 26, 26, 16)        448       \n",
      "_________________________________________________________________\n",
      "max_pooling2d (MaxPooling2D) (None, 13, 13, 16)        0         \n",
      "_________________________________________________________________\n",
      "conv2d_1 (Conv2D)            (None, 11, 11, 32)        4640      \n",
      "_________________________________________________________________\n",
      "max_pooling2d_1 (MaxPooling2 (None, 5, 5, 32)          0         \n",
      "_________________________________________________________________\n",
      "flatten (Flatten)            (None, 800)               0         \n",
      "_________________________________________________________________\n",
      "dense (Dense)                (None, 32)                25632     \n",
      "_________________________________________________________________\n",
      "dense_1 (Dense)              (None, 3)                 99        \n",
      "=================================================================\n",
      "Total params: 30,819\n",
      "Trainable params: 30,819\n",
      "Non-trainable params: 0\n",
      "_________________________________________________________________\n"
     ]
    }
   ],
   "source": [
    "import tensorflow as tf\n",
    "from tensorflow import keras\n",
    "import numpy as np\n",
    "\n",
    "model=keras.models.Sequential()\n",
    "model.add(keras.layers.Conv2D(16, (3,3), activation='relu', input_shape=(28,28,3)))\n",
    "model.add(keras.layers.MaxPool2D(2,2))\n",
    "model.add(keras.layers.Conv2D(32, (3,3), activation='relu'))\n",
    "model.add(keras.layers.MaxPooling2D((2,2)))\n",
    "model.add(keras.layers.Flatten())\n",
    "model.add(keras.layers.Dense(32, activation='relu'))\n",
    "model.add(keras.layers.Dense(3, activation='softmax'))\n",
    "\n",
    "model.summary()"
   ]
  },
  {
   "cell_type": "code",
   "execution_count": 8,
   "metadata": {},
   "outputs": [
    {
     "name": "stdout",
     "output_type": "stream",
     "text": [
      "Model: \"sequential_1\"\n",
      "_________________________________________________________________\n",
      "Layer (type)                 Output Shape              Param #   \n",
      "=================================================================\n",
      "conv2d_2 (Conv2D)            (None, 26, 26, 64)        1792      \n",
      "_________________________________________________________________\n",
      "max_pooling2d_2 (MaxPooling2 (None, 13, 13, 64)        0         \n",
      "_________________________________________________________________\n",
      "conv2d_3 (Conv2D)            (None, 11, 11, 32)        18464     \n",
      "_________________________________________________________________\n",
      "max_pooling2d_3 (MaxPooling2 (None, 5, 5, 32)          0         \n",
      "_________________________________________________________________\n",
      "flatten_1 (Flatten)          (None, 800)               0         \n",
      "_________________________________________________________________\n",
      "dense_2 (Dense)              (None, 16)                12816     \n",
      "_________________________________________________________________\n",
      "dense_3 (Dense)              (None, 3)                 51        \n",
      "=================================================================\n",
      "Total params: 33,123\n",
      "Trainable params: 33,123\n",
      "Non-trainable params: 0\n",
      "_________________________________________________________________\n",
      "Epoch 1/10\n",
      "104/104 [==============================] - 3s 31ms/step - loss: 1.0737 - accuracy: 0.4134\n",
      "Epoch 2/10\n",
      "104/104 [==============================] - 0s 2ms/step - loss: 0.9534 - accuracy: 0.5447\n",
      "Epoch 3/10\n",
      "104/104 [==============================] - 0s 2ms/step - loss: 0.7408 - accuracy: 0.6820\n",
      "Epoch 4/10\n",
      "104/104 [==============================] - 0s 2ms/step - loss: 0.5604 - accuracy: 0.7773\n",
      "Epoch 5/10\n",
      "104/104 [==============================] - 0s 2ms/step - loss: 0.4338 - accuracy: 0.8398\n",
      "Epoch 6/10\n",
      "104/104 [==============================] - 0s 2ms/step - loss: 0.3623 - accuracy: 0.8636\n",
      "Epoch 7/10\n",
      "104/104 [==============================] - 0s 2ms/step - loss: 0.2842 - accuracy: 0.9025\n",
      "Epoch 8/10\n",
      "104/104 [==============================] - 0s 2ms/step - loss: 0.2406 - accuracy: 0.9206\n",
      "Epoch 9/10\n",
      "104/104 [==============================] - 0s 2ms/step - loss: 0.2031 - accuracy: 0.9315\n",
      "Epoch 10/10\n",
      "104/104 [==============================] - 0s 2ms/step - loss: 0.1805 - accuracy: 0.9396\n",
      "9/9 - 1s - loss: 0.2417 - accuracy: 0.9161\n"
     ]
    }
   ],
   "source": [
    "#바꿔 볼 수 있는 하이퍼파라미터들\n",
    "n_channel_1=64\n",
    "n_channel_2=32\n",
    "n_dense=16\n",
    "n_train_epoch=10\n",
    "\n",
    "model=keras.models.Sequential()\n",
    "model.add(keras.layers.Conv2D(n_channel_1, (3,3), activation='relu', input_shape=(28,28,3)))\n",
    "model.add(keras.layers.MaxPool2D(2,2))\n",
    "model.add(keras.layers.Conv2D(n_channel_2, (3,3), activation='relu'))\n",
    "model.add(keras.layers.MaxPooling2D((2,2)))\n",
    "model.add(keras.layers.Flatten())\n",
    "model.add(keras.layers.Dense(n_dense, activation='relu'))\n",
    "model.add(keras.layers.Dense(3, activation='softmax'))\n",
    "\n",
    "model.summary()\n",
    "model.compile(optimizer='adam',\n",
    "             loss='sparse_categorical_crossentropy',\n",
    "             metrics=['accuracy'])\n",
    "\n",
    "# 모델 훈련\n",
    "model.fit(x_train_norm, y_train, epochs=n_train_epoch)\n",
    "\n",
    "# 모델 시험\n",
    "test_loss, test_accuracy = model.evaluate(x_test_norm, y_test, verbose=2)\n",
    "\n"
   ]
  },
  {
   "cell_type": "code",
   "execution_count": 9,
   "metadata": {},
   "outputs": [
    {
     "name": "stdout",
     "output_type": "stream",
     "text": [
      "test_loss: 0.24174213409423828 \n",
      "test_accuracy: 0.9160839319229126\n"
     ]
    }
   ],
   "source": [
    "print(\"test_loss: {} \".format(test_loss))\n",
    "print(\"test_accuracy: {}\".format(test_accuracy))\n"
   ]
  },
  {
   "cell_type": "code",
   "execution_count": null,
   "metadata": {},
   "outputs": [],
   "source": []
  },
  {
   "cell_type": "code",
   "execution_count": null,
   "metadata": {},
   "outputs": [],
   "source": []
  },
  {
   "cell_type": "code",
   "execution_count": null,
   "metadata": {},
   "outputs": [],
   "source": []
  },
  {
   "cell_type": "markdown",
   "metadata": {},
   "source": [
    "### test한 식"
   ]
  },
  {
   "cell_type": "code",
   "execution_count": 10,
   "metadata": {},
   "outputs": [],
   "source": [
    "import random\n",
    "\n",
    "#random.randint(0, 1200)\n",
    "\n",
    "idx = [random.randrange(100) for i in range(20)]\n",
    "idx.sort()\n",
    "\n",
    "#for i in range(100)     \n",
    "not_idx = [i for i in range(100) if i not in idx]"
   ]
  },
  {
   "cell_type": "code",
   "execution_count": 11,
   "metadata": {},
   "outputs": [
    {
     "name": "stdout",
     "output_type": "stream",
     "text": [
      "[2, 5, 6, 8, 11, 19, 26, 29, 40, 40, 44, 49, 50, 51, 58, 65, 74, 76, 84, 98]\n",
      "\n",
      "[0, 1, 3, 4, 7, 9, 10, 12, 13, 14, 15, 16, 17, 18, 20, 21, 22, 23, 24, 25, 27, 28, 30, 31, 32, 33, 34, 35, 36, 37, 38, 39, 41, 42, 43, 45, 46, 47, 48, 52, 53, 54, 55, 56, 57, 59, 60, 61, 62, 63, 64, 66, 67, 68, 69, 70, 71, 72, 73, 75, 77, 78, 79, 80, 81, 82, 83, 85, 86, 87, 88, 89, 90, 91, 92, 93, 94, 95, 96, 97, 99]\n"
     ]
    }
   ],
   "source": [
    "print(idx)\n",
    "print()\n",
    "print(not_idx)"
   ]
  },
  {
   "cell_type": "code",
   "execution_count": null,
   "metadata": {},
   "outputs": [],
   "source": []
  },
  {
   "cell_type": "code",
   "execution_count": null,
   "metadata": {},
   "outputs": [],
   "source": []
  },
  {
   "cell_type": "code",
   "execution_count": null,
   "metadata": {},
   "outputs": [],
   "source": []
  },
  {
   "cell_type": "code",
   "execution_count": null,
   "metadata": {},
   "outputs": [],
   "source": []
  },
  {
   "cell_type": "code",
   "execution_count": null,
   "metadata": {},
   "outputs": [],
   "source": []
  }
 ],
 "metadata": {
  "kernelspec": {
   "display_name": "Python 3",
   "language": "python",
   "name": "python3"
  },
  "language_info": {
   "codemirror_mode": {
    "name": "ipython",
    "version": 3
   },
   "file_extension": ".py",
   "mimetype": "text/x-python",
   "name": "python",
   "nbconvert_exporter": "python",
   "pygments_lexer": "ipython3",
   "version": "3.7.9"
  }
 },
 "nbformat": 4,
 "nbformat_minor": 4
}
